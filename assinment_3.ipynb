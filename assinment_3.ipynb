{
  "nbformat": 4,
  "nbformat_minor": 0,
  "metadata": {
    "colab": {
      "provenance": []
    },
    "kernelspec": {
      "name": "python3",
      "display_name": "Python 3"
    },
    "language_info": {
      "name": "python"
    }
  },
  "cells": [
    {
      "cell_type": "code",
      "execution_count": null,
      "metadata": {
        "id": "qdun7otDYkQn"
      },
      "outputs": [],
      "source": []
    },
    {
      "cell_type": "markdown",
      "source": [
        "**Q.1  Write a code to reverse a string.**\n",
        "\n",
        "**Q.2 Write a code to count the number of vowels in a string.**\n",
        "\n",
        "**Q.3 Write a code to check if a given string is a palindrome or not.**\n",
        "\n",
        "**Q.4 Write a code to check if two given strings are anagrams of each other**\n",
        "\n",
        "**Q.5  Write a code to find all occurrences of a given substring within another string.**\n",
        "\n",
        "**Q.6 Write a code to perform basic string compression using the counts of repeated characters**\n",
        "\n",
        "**Q.7 Write a code to determine if a string has all unique characters.**\n",
        "\n",
        "**Q.8 Write a code to convert a given string to uppercase or lowercase.**\n",
        "\n",
        "**Q.9 Write a code to count the number of words in a string.**\n",
        "\n",
        "**Q.10 Write a code to concatenate two strings without using the + operator.**\n",
        "\n",
        "**Q.11 Write a code to remove all occurrences of a specific element from a list.**\n",
        "\n",
        "**Q.12 Implement a code to find the second largest number in a given list of integers.**\n",
        "\n",
        "**Q.13 Create a code to count the occurrences of each element in a list and return a dictionary with elements as keys and their counts as values.**\n",
        "\n",
        "**Q.14 Write a code to reverse a list in-place without using any built-in reverse functions.**\n",
        "\n",
        "**Q.15 Implement a code to find and remove duplicates from a list while preserving the original order of elements**\n",
        "\n",
        "**Q.16 Create a code to check if a given list is sorted (either in ascending or descending order) or not.**\n",
        "\n",
        "**Q.17 Write a code to merge two sorted lists into a single sorted list.**\n",
        "\n",
        "**Q.18 Implement a code to find the intersection of two given lists.**\n",
        "\n",
        "**Q.19 Create a code to find the union of two lists without duplicates.**\n",
        "\n",
        "**Q.20 Write a code to shuffle a given list randomly without using any built-in shuffle functions.**\n",
        "\n",
        "**Q.21 Write a code that takes two tuples as input and returns a new tuple containing elements that are common to both input tuples.**\n",
        "\n",
        "**Q.22 Create a code that prompts the user to enter two sets of integers separated by commas. Then, print the intersection of these two sets.**\n",
        "\n",
        "**Q.23 Write a code to concatenate two tuples. The function should take two tuples as input and return a new tuple containing elements from both input tuples.**\n",
        "\n",
        "**Q.24 Develop a code that prompts the user to input two sets of strings. Then, print the elements that arE present in the first set but not in the second set.**\n",
        "\n",
        "**Q.25 Create a code that takes a tuple and two integers as input. The function should return a new tuple containing elements from the original tuple within the specified range of indices.**\n",
        "\n",
        "**Q.26 Write a code that prompts the user to input two sets of characters. Then, print the union of these two sets.**\n",
        "\n",
        "**Q.27 Develop a code that takes a tuple of integers as input. The function should return the maximum and minimum values from the tuple using tuple unpacking**\n",
        "\n",
        "**Q.28Create a code that defines two sets of integers. Then, print the union, intersection, and difference of these two sets.**\n",
        "\n",
        "**Q.29 Write a code that takes a tuple and an element as input. The function should return the count of occurrences of the given element in the tuple.**\n",
        "\n",
        "**Q.30 Develop a code that prompts the user to input two sets of strings. Then, print the symmetric difference of these two sets.**\n",
        "\n",
        "**Q.31 Write a code that takes a list of words as input and returns a dictionary where the keys are unique words and the values are the frequencies of those words in the input list.**\n",
        "\n",
        "**Q.32 Write a code that takes two dictionaries as input and merges them into a single dictionary. If there are common keys, the values should be added together.**\n",
        "\n",
        "**Q.33 Write a code to access a value in a nested dictionary. The function should take the dictionary and a list of keys as input, and return the corresponding value. If any of the keys do not exist in the dictionary, the function should return None.**\n",
        "\n",
        "**Q.34 Write a code that takes a dictionary as input and returns a sorted version of it based on the values. You can choose whether to sort in ascending or descending order.**\n",
        "\n",
        "**Q.35 Write a code that inverts a dictionary, swapping keys and values. Ensure that the inverted dictionary correctly handles cases where multiple keys have the same value by storing the keys as a list in the inverted dictionary.**\n",
        "\n"
      ],
      "metadata": {
        "id": "iEn5SnxuY8k2"
      }
    },
    {
      "cell_type": "code",
      "source": [
        "def reverse_string(s):\n",
        "    return s[::-1]\n",
        "\n",
        "# Example usage\n",
        "input_string = \"Hello, World!\"\n",
        "reversed_string = reverse_string(input_string)\n",
        "print(\"Original String:\", input_string)\n",
        "print(\"Reversed String:\", reversed_string)\n"
      ],
      "metadata": {
        "colab": {
          "base_uri": "https://localhost:8080/"
        },
        "id": "qsMdo8VjhTd_",
        "outputId": "29fa7b61-f885-4f10-f7e4-2b5565f307ea"
      },
      "execution_count": null,
      "outputs": [
        {
          "output_type": "stream",
          "name": "stdout",
          "text": [
            "Original String: Hello, World!\n",
            "Reversed String: !dlroW ,olleH\n"
          ]
        }
      ]
    },
    {
      "cell_type": "code",
      "source": [
        "def count_vowels(s):\n",
        "    vowels = \"aeiouAEIOU\"\n",
        "    count = 0\n",
        "    for char in s:\n",
        "        if char in vowels:\n",
        "            count += 1\n",
        "    return count\n",
        "\n",
        "# Example usage\n",
        "input_string = \"Hello, World!\"\n",
        "vowel_count = count_vowels(input_string)\n",
        "print(\"Original String:\", input_string)\n",
        "print(\"Number of Vowels:\", vowel_count)\n"
      ],
      "metadata": {
        "colab": {
          "base_uri": "https://localhost:8080/"
        },
        "id": "QSnnWV1rhq67",
        "outputId": "2903553b-2a54-4205-f169-027e6e5dbe27"
      },
      "execution_count": null,
      "outputs": [
        {
          "output_type": "stream",
          "name": "stdout",
          "text": [
            "Original String: Hello, World!\n",
            "Number of Vowels: 3\n"
          ]
        }
      ]
    },
    {
      "cell_type": "code",
      "source": [
        "def is_palindrome(s):\n",
        "    # Remove spaces and convert to lowercase for accurate comparison\n",
        "    s = ''.join(s.split()).lower()\n",
        "    # Check if the string is equal to its reverse\n",
        "    return s == s[::-1]\n",
        "\n",
        "# Example usage\n",
        "input_string = \"A man a plan a canal Panama\"\n",
        "if is_palindrome(input_string):\n",
        "    print(f'\"{input_string}\" is a palindrome.')\n",
        "else:\n",
        "    print(f'\"{input_string}\" is not a palindrome.')\n"
      ],
      "metadata": {
        "colab": {
          "base_uri": "https://localhost:8080/"
        },
        "id": "W_KDyzk0h2Wy",
        "outputId": "230e856a-01f0-480c-c316-a5ea7eb28b5b"
      },
      "execution_count": null,
      "outputs": [
        {
          "output_type": "stream",
          "name": "stdout",
          "text": [
            "\"A man a plan a canal Panama\" is a palindrome.\n"
          ]
        }
      ]
    },
    {
      "cell_type": "code",
      "source": [
        "def are_anagrams(str1, str2):\n",
        "    # Remove spaces, convert to lowercase, and sort the characters\n",
        "    str1 = ''.join(str1.split()).lower()\n",
        "    str2 = ''.join(str2.split()).lower()\n",
        "\n",
        "    # Check if sorted characters are equal\n",
        "    return sorted(str1) == sorted(str2)\n",
        "\n",
        "# Example usage\n",
        "string1 = \"Listen\"\n",
        "string2 = \"Silent\"\n",
        "if are_anagrams(string1, string2):\n",
        "    print(f'\"{string1}\" and \"{string2}\" are anagrams.')\n",
        "else:\n",
        "    print(f'\"{string1}\" and \"{string2}\" are not anagrams.')\n",
        "\n"
      ],
      "metadata": {
        "colab": {
          "base_uri": "https://localhost:8080/"
        },
        "id": "Y97mw7NRiMz8",
        "outputId": "ef667452-9272-41fa-dd36-6663a70b80d1"
      },
      "execution_count": null,
      "outputs": [
        {
          "output_type": "stream",
          "name": "stdout",
          "text": [
            "\"Listen\" and \"Silent\" are anagrams.\n"
          ]
        }
      ]
    },
    {
      "cell_type": "code",
      "source": [
        "def find_substring_occurrences(main_string, substring):\n",
        "    occurrences = []\n",
        "    start = 0\n",
        "    while start < len(main_string):\n",
        "        # Find the next occurrence of the substring\n",
        "        start = main_string.find(substring, start)\n",
        "        if start == -1:  # No more occurrences\n",
        "            break\n",
        "        occurrences.append(start)\n",
        "        # Move start index forward to find subsequent occurrences\n",
        "        start += 1\n",
        "    return occurrences\n",
        "\n",
        "# Example usage\n",
        "main_string = \"abracadabra\"\n",
        "substring = \"abra\"\n",
        "positions = find_substring_occurrences(main_string, substring)\n",
        "\n",
        "if positions:\n",
        "    print(f'The substring \"{substring}\" was found at positions: {positions}')\n",
        "else:\n",
        "    print(f'The substring \"{substring}\" was not found in the main string.')\n"
      ],
      "metadata": {
        "colab": {
          "base_uri": "https://localhost:8080/"
        },
        "id": "NJAOjODNiP-x",
        "outputId": "93f13653-1936-45a1-ac19-050d5e0538e5"
      },
      "execution_count": null,
      "outputs": [
        {
          "output_type": "stream",
          "name": "stdout",
          "text": [
            "The substring \"abra\" was found at positions: [0, 7]\n"
          ]
        }
      ]
    },
    {
      "cell_type": "code",
      "source": [
        "def compress_string(s):\n",
        "    if not s:\n",
        "        return \"\"\n",
        "\n",
        "    compressed = []\n",
        "    count = 1\n",
        "\n",
        "    for i in range(1, len(s)):\n",
        "        if s[i] == s[i - 1]:\n",
        "            count += 1\n",
        "        else:\n",
        "            compressed.append(s[i - 1] + str(count))\n",
        "            count = 1\n",
        "\n",
        "    # Add the last character and its count\n",
        "    compressed.append(s[-1] + str(count))\n",
        "\n",
        "    # Join the compressed parts into a single string\n",
        "    compressed_string = ''.join(compressed)\n",
        "\n",
        "    # Return the compressed string if it's shorter than the original\n",
        "    return compressed_string if len(compressed_string) < len(s) else s\n",
        "\n",
        "# Example usage\n",
        "input_string = \"aaabcccccaaa\"\n",
        "compressed_result = compress_string(input_string)\n",
        "print(\"Original String:\", input_string)\n",
        "print(\"Compressed String:\", compressed_result)\n"
      ],
      "metadata": {
        "colab": {
          "base_uri": "https://localhost:8080/"
        },
        "id": "5wlfNrJCiZGf",
        "outputId": "ce284cd8-5c1e-47e5-e76c-a3437a745fe5"
      },
      "execution_count": null,
      "outputs": [
        {
          "output_type": "stream",
          "name": "stdout",
          "text": [
            "Original String: aaabcccccaaa\n",
            "Compressed String: a3b1c5a3\n"
          ]
        }
      ]
    },
    {
      "cell_type": "code",
      "source": [
        "def has_unique_characters(s):\n",
        "    # Use a set to track seen characters\n",
        "    seen = set()\n",
        "    for char in s:\n",
        "        if char in seen:\n",
        "            return False  # Duplicate character found\n",
        "        seen.add(char)\n",
        "    return True  # All characters are unique\n",
        "\n",
        "# Example usage\n",
        "input_string = \"abcdefg\"\n",
        "if has_unique_characters(input_string):\n",
        "    print(f'The string \"{input_string}\" has all unique characters.')\n",
        "else:\n",
        "    print(f'The string \"{input_string}\" does not have all unique characters.')\n"
      ],
      "metadata": {
        "colab": {
          "base_uri": "https://localhost:8080/"
        },
        "id": "Ld_JK8nJiiro",
        "outputId": "0ce40373-6f04-4ecc-8748-ffd5a1249683"
      },
      "execution_count": null,
      "outputs": [
        {
          "output_type": "stream",
          "name": "stdout",
          "text": [
            "The string \"abcdefg\" has all unique characters.\n"
          ]
        }
      ]
    },
    {
      "cell_type": "code",
      "source": [
        "def convert_case(s, to_upper=True):\n",
        "    if to_upper:\n",
        "        return s.upper()  # Convert to uppercase\n",
        "    else:\n",
        "        return s.lower()  # Convert to lowercase\n",
        "\n",
        "# Example usage\n",
        "input_string = \"Hello, World!\"\n",
        "uppercased = convert_case(input_string, to_upper=True)\n",
        "lowercased = convert_case(input_string, to_upper=False)\n",
        "\n",
        "print(\"Original String:\", input_string)\n",
        "print(\"Uppercase:\", uppercased)\n",
        "print(\"Lowercase:\", lowercased)\n"
      ],
      "metadata": {
        "colab": {
          "base_uri": "https://localhost:8080/"
        },
        "id": "3cXZtk1kizB_",
        "outputId": "579f341d-0fb4-49d7-9b54-4742feda4b0e"
      },
      "execution_count": null,
      "outputs": [
        {
          "output_type": "stream",
          "name": "stdout",
          "text": [
            "Original String: Hello, World!\n",
            "Uppercase: HELLO, WORLD!\n",
            "Lowercase: hello, world!\n"
          ]
        }
      ]
    },
    {
      "cell_type": "code",
      "source": [
        "def count_words(s):\n",
        "    # Split the string by whitespace and count the resulting parts\n",
        "    words = s.split()\n",
        "    return len(words)\n",
        "\n",
        "# Example usage\n",
        "input_string = \"Hello, how are you doing today?\"\n",
        "word_count = count_words(input_string)\n",
        "\n",
        "print(\"Original String:\", input_string)\n",
        "print(\"Number of Words:\", word_count)\n"
      ],
      "metadata": {
        "colab": {
          "base_uri": "https://localhost:8080/"
        },
        "id": "Wq71B87hjckO",
        "outputId": "9c83e060-2494-46ad-b8a9-639afd9c3792"
      },
      "execution_count": null,
      "outputs": [
        {
          "output_type": "stream",
          "name": "stdout",
          "text": [
            "Original String: Hello, how are you doing today?\n",
            "Number of Words: 6\n"
          ]
        }
      ]
    },
    {
      "cell_type": "code",
      "source": [
        "def concatenate_strings(s1, s2):\n",
        "    # Use the join() method to concatenate\n",
        "    return ''.join([s1, s2])\n",
        "\n",
        "# Example usage\n",
        "string1 = \"Hello\"\n",
        "string2 = \"World\"\n",
        "result = concatenate_strings(string1, string2)\n",
        "\n",
        "print(\"String 1:\", string1)\n",
        "print(\"String 2:\", string2)\n",
        "print(\"Concatenated String:\", result)\n"
      ],
      "metadata": {
        "colab": {
          "base_uri": "https://localhost:8080/"
        },
        "id": "0uQbgC79jvPi",
        "outputId": "dcb69494-3c54-4016-ca2c-80cd176aeef4"
      },
      "execution_count": null,
      "outputs": [
        {
          "output_type": "stream",
          "name": "stdout",
          "text": [
            "String 1: Hello\n",
            "String 2: World\n",
            "Concatenated String: HelloWorld\n"
          ]
        }
      ]
    },
    {
      "cell_type": "code",
      "source": [
        "def remove_element(lst, element):\n",
        "    # Use list comprehension to filter out the element\n",
        "    return [item for item in lst if item != element]\n",
        "\n",
        "# Example usage\n",
        "input_list = [1, 2, 3, 4, 2, 5, 2]\n",
        "element_to_remove = 2\n",
        "result = remove_element(input_list, element_to_remove)\n",
        "\n",
        "print(\"Original List:\", input_list)\n",
        "print(\"List after removing all occurrences of\", element_to_remove, \":\", result)\n"
      ],
      "metadata": {
        "colab": {
          "base_uri": "https://localhost:8080/"
        },
        "id": "yDSBhrbOkFK3",
        "outputId": "8a5e3b62-597c-45f6-90af-8d9828be13bf"
      },
      "execution_count": null,
      "outputs": [
        {
          "output_type": "stream",
          "name": "stdout",
          "text": [
            "Original List: [1, 2, 3, 4, 2, 5, 2]\n",
            "List after removing all occurrences of 2 : [1, 3, 4, 5]\n"
          ]
        }
      ]
    },
    {
      "cell_type": "code",
      "source": [
        "def second_largest(lst):\n",
        "    # Convert the list to a set to remove duplicates and sort the unique elements\n",
        "    unique_lst = list(set(lst))\n",
        "\n",
        "    # If the list has fewer than 2 elements, return None (not enough numbers for second largest)\n",
        "    if len(unique_lst) < 2:\n",
        "        return None\n",
        "\n",
        "    # Sort the unique elements in descending order\n",
        "    unique_lst.sort(reverse=True)\n",
        "\n",
        "    # Return the second largest number\n",
        "    return unique_lst[1]\n",
        "\n",
        "# Example usage\n",
        "input_list = [10, 20, 4, 45, 99, 99]\n",
        "result = second_largest(input_list)\n",
        "\n",
        "if result is None:\n",
        "    print(\"The list doesn't have enough unique elements for a second largest number.\")\n",
        "else:\n",
        "    print(\"The second largest number is:\", result)\n"
      ],
      "metadata": {
        "colab": {
          "base_uri": "https://localhost:8080/"
        },
        "id": "JZF6NTzkkTH3",
        "outputId": "1c6209ca-980a-4ae3-ba79-ede037d9e452"
      },
      "execution_count": null,
      "outputs": [
        {
          "output_type": "stream",
          "name": "stdout",
          "text": [
            "The second largest number is: 45\n"
          ]
        }
      ]
    },
    {
      "cell_type": "code",
      "source": [
        "def count_occurrences(lst):\n",
        "    # Create an empty dictionary to store the count of each element\n",
        "    count_dict = {}\n",
        "\n",
        "    # Iterate over the list and update the dictionary with the count of each element\n",
        "    for item in lst:\n",
        "        if item in count_dict:\n",
        "            count_dict[item] += 1\n",
        "        else:\n",
        "            count_dict[item] = 1\n",
        "\n",
        "    return count_dict\n",
        "\n",
        "# Example usage\n",
        "input_list = [1, 2, 2, 3, 3, 3, 4, 5, 5]\n",
        "result = count_occurrences(input_list)\n",
        "\n",
        "print(\"Occurrences of elements:\", result)\n"
      ],
      "metadata": {
        "colab": {
          "base_uri": "https://localhost:8080/"
        },
        "id": "9G-9ruwVko7o",
        "outputId": "ef7acd1e-3636-480c-ca5e-1b698e025fa0"
      },
      "execution_count": null,
      "outputs": [
        {
          "output_type": "stream",
          "name": "stdout",
          "text": [
            "Occurrences of elements: {1: 1, 2: 2, 3: 3, 4: 1, 5: 2}\n"
          ]
        }
      ]
    },
    {
      "cell_type": "code",
      "source": [
        "def reverse_list(lst):\n",
        "    left = 0\n",
        "    right = len(lst) - 1\n",
        "\n",
        "    while left < right:\n",
        "        # Swap the elements at left and right\n",
        "        lst[left], lst[right] = lst[right], lst[left]\n",
        "\n",
        "        # Move the pointers towards the center\n",
        "        left += 1\n",
        "        right -= 1\n",
        "\n",
        "# Example usage\n",
        "input_list = [1, 2, 3, 4, 5]\n",
        "reverse_list(input_list)\n",
        "\n",
        "print(\"Reversed List:\", input_list)\n"
      ],
      "metadata": {
        "colab": {
          "base_uri": "https://localhost:8080/"
        },
        "id": "iGdCvcdmksT-",
        "outputId": "2ce2d718-880c-42ab-b3f9-6632c5ef7f03"
      },
      "execution_count": null,
      "outputs": [
        {
          "output_type": "stream",
          "name": "stdout",
          "text": [
            "Reversed List: [5, 4, 3, 2, 1]\n"
          ]
        }
      ]
    },
    {
      "cell_type": "code",
      "source": [
        "def remove_duplicates(lst):\n",
        "    seen = set()  # A set to track already seen elements\n",
        "    result = []   # A list to store elements without duplicates\n",
        "\n",
        "    for item in lst:\n",
        "        if item not in seen:\n",
        "            result.append(item)  # Add item to result if not seen\n",
        "            seen.add(item)        # Mark the item as seen\n",
        "\n",
        "    return result\n",
        "\n",
        "# Example usage\n",
        "input_list = [1, 2, 3, 2, 4, 5, 5, 6, 1]\n",
        "result = remove_duplicates(input_list)\n",
        "\n",
        "print(\"List without duplicates:\", result)\n"
      ],
      "metadata": {
        "colab": {
          "base_uri": "https://localhost:8080/"
        },
        "id": "vhI_LJvFk4QI",
        "outputId": "67b18e21-2687-4eab-84cb-6cb930603418"
      },
      "execution_count": null,
      "outputs": [
        {
          "output_type": "stream",
          "name": "stdout",
          "text": [
            "List without duplicates: [1, 2, 3, 4, 5, 6]\n"
          ]
        }
      ]
    },
    {
      "cell_type": "code",
      "source": [
        "def is_sorted(lst):\n",
        "    # Check if the list is sorted in ascending order\n",
        "    if all(lst[i] <= lst[i + 1] for i in range(len(lst) - 1)):\n",
        "        return \"Ascending\"\n",
        "    # Check if the list is sorted in descending order\n",
        "    elif all(lst[i] >= lst[i + 1] for i in range(len(lst) - 1)):\n",
        "        return \"Descending\"\n",
        "    else:\n",
        "        return \"Not Sorted\"\n",
        "\n",
        "# Example usage\n",
        "input_list = [1, 2, 3, 4, 5]\n",
        "result = is_sorted(input_list)\n",
        "\n",
        "print(f\"The list is {result}.\")\n"
      ],
      "metadata": {
        "colab": {
          "base_uri": "https://localhost:8080/"
        },
        "id": "aHHYr8xglDMf",
        "outputId": "5381d4f6-b04e-49b5-ac4a-6920414b5393"
      },
      "execution_count": null,
      "outputs": [
        {
          "output_type": "stream",
          "name": "stdout",
          "text": [
            "The list is Ascending.\n"
          ]
        }
      ]
    },
    {
      "cell_type": "code",
      "source": [
        "def merge_sorted_lists(list1, list2):\n",
        "    merged_list = []\n",
        "    i, j = 0, 0\n",
        "\n",
        "    # Iterate through both lists and add the smaller element to merged_list\n",
        "    while i < len(list1) and j < len(list2):\n",
        "        if list1[i] <= list2[j]:\n",
        "            merged_list.append(list1[i])\n",
        "            i += 1\n",
        "        else:\n",
        "            merged_list.append(list2[j])\n",
        "            j += 1\n",
        "\n",
        "    # If any elements are left in list1, add them\n",
        "    while i < len(list1):\n",
        "        merged_list.append(list1[i])\n",
        "        i += 1\n",
        "\n",
        "    # If any elements are left in list2, add them\n",
        "    while j < len(list2):\n",
        "        merged_list.append(list2[j])\n",
        "        j += 1\n",
        "\n",
        "    return merged_list\n",
        "\n",
        "# Example usage\n",
        "list1 = [1, 3, 5, 7]\n",
        "list2 = [2, 4, 6, 8]\n",
        "result = merge_sorted_lists(list1, list2)\n",
        "\n",
        "print(\"Merged Sorted List:\", result)\n"
      ],
      "metadata": {
        "colab": {
          "base_uri": "https://localhost:8080/"
        },
        "id": "ibnF2FgClN8K",
        "outputId": "ae8bec53-b5cb-4670-bbd8-cd5fcdf4a0ca"
      },
      "execution_count": null,
      "outputs": [
        {
          "output_type": "stream",
          "name": "stdout",
          "text": [
            "Merged Sorted List: [1, 2, 3, 4, 5, 6, 7, 8]\n"
          ]
        }
      ]
    },
    {
      "cell_type": "code",
      "source": [
        "def intersection_of_lists(list1, list2):\n",
        "    # Convert the lists to sets and find the intersection\n",
        "    return list(set(list1) & set(list2))\n",
        "\n",
        "# Example usage\n",
        "list1 = [1, 2, 3, 4, 5]\n",
        "list2 = [4, 5, 6, 7, 8]\n",
        "result = intersection_of_lists(list1, list2)\n",
        "\n",
        "print(\"Intersection of Lists:\", result)\n"
      ],
      "metadata": {
        "colab": {
          "base_uri": "https://localhost:8080/"
        },
        "id": "rG3QAkK0lZW6",
        "outputId": "98fd0842-1d49-4c96-e87c-6f47c653850c"
      },
      "execution_count": null,
      "outputs": [
        {
          "output_type": "stream",
          "name": "stdout",
          "text": [
            "Intersection of Lists: [4, 5]\n"
          ]
        }
      ]
    },
    {
      "cell_type": "code",
      "source": [
        "def union_of_lists(list1, list2):\n",
        "    # Convert both lists to sets and find the union\n",
        "    return list(set(list1) | set(list2))\n",
        "\n",
        "# Example usage\n",
        "list1 = [1, 2, 3, 4, 5]\n",
        "list2 = [4, 5, 6, 7, 8]\n",
        "result = union_of_lists(list1, list2)\n",
        "\n",
        "print(\"Union of Lists:\", result)\n"
      ],
      "metadata": {
        "colab": {
          "base_uri": "https://localhost:8080/"
        },
        "id": "QrGGh8-plnOu",
        "outputId": "e506d7d7-d2d1-4ca1-94eb-cee27a70597c"
      },
      "execution_count": null,
      "outputs": [
        {
          "output_type": "stream",
          "name": "stdout",
          "text": [
            "Union of Lists: [1, 2, 3, 4, 5, 6, 7, 8]\n"
          ]
        }
      ]
    },
    {
      "cell_type": "code",
      "source": [
        "import random\n",
        "\n",
        "def shuffle_list(lst):\n",
        "    # Iterate through the list in reverse order\n",
        "    for i in range(len(lst) - 1, 0, -1):\n",
        "        # Generate a random index from 0 to i\n",
        "        j = random.randint(0, i)\n",
        "        # Swap the elements at index i and j\n",
        "        lst[i], lst[j] = lst[j], lst[i]\n",
        "    return lst\n",
        "\n",
        "# Example usage\n",
        "input_list = [1, 2, 3, 4, 5]\n",
        "shuffled_list = shuffle_list(input_list)\n",
        "\n",
        "print(\"Shuffled List:\", shuffled_list)\n"
      ],
      "metadata": {
        "colab": {
          "base_uri": "https://localhost:8080/"
        },
        "id": "QdFV8N_Ul_M_",
        "outputId": "9f70750c-103d-48ea-d33a-c1439d5099f1"
      },
      "execution_count": null,
      "outputs": [
        {
          "output_type": "stream",
          "name": "stdout",
          "text": [
            "Shuffled List: [3, 2, 5, 4, 1]\n"
          ]
        }
      ]
    },
    {
      "cell_type": "code",
      "source": [
        "def common_elements(tuple1, tuple2):\n",
        "    # Convert both tuples to sets to find the intersection\n",
        "    common = set(tuple1) & set(tuple2)\n",
        "\n",
        "    # Return the common elements as a tuple\n",
        "    return tuple(common)\n",
        "\n",
        "# Example usage\n",
        "tuple1 = (1, 2, 3, 4, 5)\n",
        "tuple2 = (4, 5, 6, 7, 8)\n",
        "result = common_elements(tuple1, tuple2)\n",
        "\n",
        "print(\"Common Elements:\", result)\n"
      ],
      "metadata": {
        "colab": {
          "base_uri": "https://localhost:8080/"
        },
        "id": "ebZYqmI5mS0c",
        "outputId": "533ad03e-2a90-4cc0-eb69-4dcff0480754"
      },
      "execution_count": null,
      "outputs": [
        {
          "output_type": "stream",
          "name": "stdout",
          "text": [
            "Common Elements: (4, 5)\n"
          ]
        }
      ]
    },
    {
      "cell_type": "code",
      "source": [
        "def concatenate_tuples(tuple1, tuple2):\n",
        "    # Concatenate the two tuples\n",
        "    return tuple1 + tuple2\n",
        "\n",
        "# Example usage\n",
        "tuple1 = (1, 2, 3)\n",
        "tuple2 = (4, 5, 6)\n",
        "result = concatenate_tuples(tuple1, tuple2)\n",
        "\n",
        "print(\"Concatenated Tuple:\", result)\n"
      ],
      "metadata": {
        "colab": {
          "base_uri": "https://localhost:8080/"
        },
        "id": "ORabUlIto61h",
        "outputId": "7586d579-c0ca-40c8-fab6-eff8c4c85a53"
      },
      "execution_count": 31,
      "outputs": [
        {
          "output_type": "stream",
          "name": "stdout",
          "text": [
            "Concatenated Tuple: (1, 2, 3, 4, 5, 6)\n"
          ]
        }
      ]
    },
    {
      "cell_type": "code",
      "source": [
        "def invert_dictionary(original_dict):\n",
        "    inverted_dict = {}\n",
        "\n",
        "    for key, value in original_dict.items():\n",
        "        # If the value is already a key in the inverted dictionary, append the key to the list\n",
        "        if value in inverted_dict:\n",
        "            inverted_dict[value].append(key)\n",
        "        else:\n",
        "            inverted_dict[value] = [key]  # If the value isn't already a key, create a new list with the current key\n",
        "\n",
        "    return inverted_dict\n",
        "\n",
        "# Example usage\n",
        "input_dict = {\n",
        "    'a': 1,\n",
        "    'b': 2,\n",
        "    'c': 1,\n",
        "    'd': 3,\n",
        "    'e': 2\n",
        "}\n",
        "\n",
        "inverted_dict = invert_dictionary(input_dict)\n",
        "\n",
        "print(\"Original Dictionary:\", input_dict)\n",
        "print(\"Inverted Dictionary:\", inverted_dict)\n"
      ],
      "metadata": {
        "colab": {
          "base_uri": "https://localhost:8080/"
        },
        "id": "tlpxrMBwObo6",
        "outputId": "86c56ceb-32db-43c6-ae21-a2ff64d58ba8"
      },
      "execution_count": 32,
      "outputs": [
        {
          "output_type": "stream",
          "name": "stdout",
          "text": [
            "Original Dictionary: {'a': 1, 'b': 2, 'c': 1, 'd': 3, 'e': 2}\n",
            "Inverted Dictionary: {1: ['a', 'c'], 2: ['b', 'e'], 3: ['d']}\n"
          ]
        }
      ]
    },
    {
      "cell_type": "code",
      "source": [
        "def sort_dict_by_values(input_dict, descending=False):\n",
        "    # Sort the dictionary by values, using the sorted() function and a lambda function\n",
        "    sorted_dict = dict(sorted(input_dict.items(), key=lambda item: item[1], reverse=descending))\n",
        "    return sorted_dict\n",
        "\n",
        "# Example usage\n",
        "input_dict = {\n",
        "    'apple': 10,\n",
        "    'banana': 5,\n",
        "    'cherry': 7,\n",
        "    'date': 2\n",
        "}\n",
        "\n",
        "# User input to choose sorting order\n",
        "order = input(\"Enter 'asc' for ascending or 'desc' for descending order: \").strip().lower()\n",
        "descending = True if order == 'desc' else False\n",
        "\n",
        "sorted_dict = sort_dict_by_values(input_dict, descending)\n",
        "\n",
        "print(\"Sorted Dictionary:\", sorted_dict)\n"
      ],
      "metadata": {
        "colab": {
          "base_uri": "https://localhost:8080/"
        },
        "id": "G_mVAZqvQGM9",
        "outputId": "78bd03a7-133b-481a-8a66-1f910f49dc36"
      },
      "execution_count": 33,
      "outputs": [
        {
          "output_type": "stream",
          "name": "stdout",
          "text": [
            "Enter 'asc' for ascending or 'desc' for descending order: asc\n",
            "Sorted Dictionary: {'date': 2, 'banana': 5, 'cherry': 7, 'apple': 10}\n"
          ]
        }
      ]
    },
    {
      "cell_type": "code",
      "source": [
        "def access_nested_value(nested_dict, keys):\n",
        "    # Iterate over the list of keys to access the nested value\n",
        "    for key in keys:\n",
        "        # Check if the key exists in the current level of the dictionary\n",
        "        if isinstance(nested_dict, dict) and key in nested_dict:\n",
        "            nested_dict = nested_dict[key]  # Move to the next nested dictionary or value\n",
        "        else:\n",
        "            return None  # If any key is not found, return None\n",
        "    return nested_dict  # Return the final value\n",
        "\n",
        "# Example usage\n",
        "nested_dict = {\n",
        "    'a': {\n",
        "        'b': {\n",
        "            'c': 10,\n",
        "            'd': 20\n",
        "        }\n",
        "    },\n",
        "    'x': {\n",
        "        'y': 30\n",
        "    }\n",
        "}\n",
        "\n",
        "keys = ['a', 'b', 'c']\n",
        "result = access_nested_value(nested_dict, keys)\n",
        "\n",
        "print(\"Result:\", result)  # Expected Output: 10\n",
        "\n",
        "# Example where key does not exist\n",
        "keys_invalid = ['a', 'b', 'z']\n",
        "result_invalid = access_nested_value(nested_dict, keys_invalid)\n",
        "\n",
        "print(\"Result for invalid keys:\", result_invalid)  # Expected Output: None\n"
      ],
      "metadata": {
        "colab": {
          "base_uri": "https://localhost:8080/"
        },
        "id": "5F0X6y5tQR3W",
        "outputId": "bc87b4be-958d-48a4-98e1-64c59b49179c"
      },
      "execution_count": 34,
      "outputs": [
        {
          "output_type": "stream",
          "name": "stdout",
          "text": [
            "Result: 10\n",
            "Result for invalid keys: None\n"
          ]
        }
      ]
    },
    {
      "cell_type": "code",
      "source": [
        "def merge_dictionaries(dict1, dict2):\n",
        "    merged_dict = dict1.copy()  # Start with a copy of the first dictionary\n",
        "\n",
        "    # Iterate over the second dictionary and merge values\n",
        "    for key, value in dict2.items():\n",
        "        if key in merged_dict:\n",
        "            merged_dict[key] += value  # Add the values if the key exists\n",
        "        else:\n",
        "            merged_dict[key] = value  # Add the key-value pair if it's new\n",
        "\n",
        "    return merged_dict\n",
        "\n",
        "# Example usage\n",
        "dict1 = {'a': 1, 'b': 2, 'c': 3}\n",
        "dict2 = {'b': 3, 'c': 4, 'd': 5}\n",
        "\n",
        "merged_dict = merge_dictionaries(dict1, dict2)\n",
        "\n",
        "print(\"Merged Dictionary:\", merged_dict)\n"
      ],
      "metadata": {
        "colab": {
          "base_uri": "https://localhost:8080/"
        },
        "id": "BWR3OkeMQmdQ",
        "outputId": "21c2ea63-26d2-4cc9-8817-fcbfa45be3ae"
      },
      "execution_count": 35,
      "outputs": [
        {
          "output_type": "stream",
          "name": "stdout",
          "text": [
            "Merged Dictionary: {'a': 1, 'b': 5, 'c': 7, 'd': 5}\n"
          ]
        }
      ]
    },
    {
      "cell_type": "code",
      "source": [
        "def word_frequencies(word_list):\n",
        "    freq_dict = {}\n",
        "\n",
        "    for word in word_list:\n",
        "        # Increment the count of the word in the dictionary\n",
        "        if word in freq_dict:\n",
        "            freq_dict[word] += 1\n",
        "        else:\n",
        "            freq_dict[word] = 1  # Add the word to the dictionary with count 1\n",
        "\n",
        "    return freq_dict\n",
        "\n",
        "# Example usage\n",
        "words = input(\"Enter a list of words separated by spaces: \").split()\n",
        "result = word_frequencies(words)\n",
        "\n",
        "print(\"Word Frequencies:\", result)\n"
      ],
      "metadata": {
        "colab": {
          "base_uri": "https://localhost:8080/"
        },
        "id": "DWOkWaMOQ3G6",
        "outputId": "19d63c41-1e4c-46e1-e671-033d6a55addb"
      },
      "execution_count": 36,
      "outputs": [
        {
          "output_type": "stream",
          "name": "stdout",
          "text": [
            "Enter a list of words separated by spaces: apple banana apple orange banana apple\n",
            "Word Frequencies: {'apple': 3, 'banana': 2, 'orange': 1}\n"
          ]
        }
      ]
    },
    {
      "cell_type": "code",
      "source": [
        "def get_set_input(prompt):\n",
        "    # Prompt the user to input a set of strings separated by commas\n",
        "    user_input = input(prompt)\n",
        "\n",
        "    # Convert the input string into a set of strings\n",
        "    return set(user_input.split(','))\n",
        "\n",
        "def main():\n",
        "    # Get two sets of strings from the user\n",
        "    set1 = get_set_input(\"Enter the first set of strings (separated by commas):apple,banana,orange \")\n",
        "    set2 = get_set_input(\"Enter the second set of strings (separated by commas):banana,grape \")\n",
        "\n",
        "    # Find the symmetric difference of the two sets\n",
        "    symmetric_difference = set1 ^ set2  # Or set1.symmetric_difference(set2)\n",
        "\n",
        "    # Print the result\n",
        "    print(\"Symmetric Difference of the two sets:\", symmetric_difference)\n",
        "\n",
        "# Example usage\n",
        "main()\n"
      ],
      "metadata": {
        "colab": {
          "base_uri": "https://localhost:8080/"
        },
        "id": "JsjH6S7hTF1Q",
        "outputId": "f2a6f1a8-804d-46d6-df4e-eb5b10221aae"
      },
      "execution_count": 37,
      "outputs": [
        {
          "output_type": "stream",
          "name": "stdout",
          "text": [
            "Enter the first set of strings (separated by commas): apple,banana,orange  banana,grape\n",
            "Enter the second set of strings (separated by commas): banana,grape banana,grape\n",
            "Symmetric Difference of the two sets: {'grape banana', 'orange  banana', 'apple'}\n"
          ]
        }
      ]
    },
    {
      "cell_type": "code",
      "source": [
        "def count_occurrences(tpl, element):\n",
        "    # Use the count() method of the tuple to count occurrences of the element\n",
        "    return tpl.count(element)\n",
        "\n",
        "# Example usage\n",
        "input_tuple = tuple(input(\"Enter a tuple of values separated by commas:apple,banana,orange,apple,grape \").split(','))\n",
        "element = input(\"Enter the element to count occurrences of:apple \")\n",
        "\n",
        "# Count the occurrences of the element in the tuple\n",
        "count = count_occurrences(input_tuple, element)\n",
        "\n",
        "print(f\"The element '{element}' appears {count} time(s) in the tuple.\")\n"
      ],
      "metadata": {
        "colab": {
          "base_uri": "https://localhost:8080/"
        },
        "id": "6NUVgmBHT7N6",
        "outputId": "6cca3acd-f893-4a60-9a67-c77f9456396e"
      },
      "execution_count": 38,
      "outputs": [
        {
          "output_type": "stream",
          "name": "stdout",
          "text": [
            "Enter a tuple of values separated by commas: apple,banana,orange,apple,grape\n",
            "Enter the element to count occurrences of: apple\n",
            "The element 'apple' appears 2 time(s) in the tuple.\n"
          ]
        }
      ]
    },
    {
      "cell_type": "code",
      "source": [
        "def main():\n",
        "    # Define two sets of integers\n",
        "    set1 = {1, 2, 3, 4, 5}\n",
        "    set2 = {4, 5, 6, 7, 8}\n",
        "\n",
        "    # Union of set1 and set2 (all elements from both sets)\n",
        "    union_set = set1 | set2  # Alternatively, you can use set1.union(set2)\n",
        "\n",
        "    # Intersection of set1 and set2 (common elements in both sets)\n",
        "    intersection_set = set1 & set2  # Alternatively, you can use set1.intersection(set2)\n",
        "\n",
        "    # Difference of set1 and set2 (elements in set1 but not in set2)\n",
        "    difference_set = set1 - set2  # Alternatively, you can use set1.difference(set2)\n",
        "\n",
        "    # Print the results\n",
        "    print(\"Union of the two sets:\", union_set)\n",
        "    print(\"Intersection of the two sets:\", intersection_set)\n",
        "    print(\"Difference of set1 and set2:\", difference_set)\n",
        "\n",
        "# Example usage\n",
        "main()\n"
      ],
      "metadata": {
        "colab": {
          "base_uri": "https://localhost:8080/"
        },
        "id": "hbDZpf8xUodk",
        "outputId": "3b3619cc-b6d3-4cb6-fcd4-a2e3ad9ff39c"
      },
      "execution_count": 39,
      "outputs": [
        {
          "output_type": "stream",
          "name": "stdout",
          "text": [
            "Union of the two sets: {1, 2, 3, 4, 5, 6, 7, 8}\n",
            "Intersection of the two sets: {4, 5}\n",
            "Difference of set1 and set2: {1, 2, 3}\n"
          ]
        }
      ]
    },
    {
      "cell_type": "code",
      "source": [
        "def find_max_min(tpl):\n",
        "    # Unpacking the tuple into the maximum and minimum values\n",
        "    max_val, min_val = max(tpl), min(tpl)\n",
        "    return max_val, min_val\n",
        "\n",
        "# Example usage\n",
        "input_tuple = tuple(map(int, input(\"Enter a tuple of integers separated by commas: \").split(',')))\n",
        "\n",
        "# Get the maximum and minimum values using the function\n",
        "max_val, min_val = find_max_min(input_tuple)\n",
        "\n",
        "print(\"Maximum value:\", max_val)\n",
        "print(\"Minimum value:\", min_val)\n"
      ],
      "metadata": {
        "colab": {
          "base_uri": "https://localhost:8080/"
        },
        "id": "DUCgMAR1U2ZA",
        "outputId": "a1483734-69e2-4848-e5e2-0f25ecae6448"
      },
      "execution_count": 40,
      "outputs": [
        {
          "output_type": "stream",
          "name": "stdout",
          "text": [
            "Enter a tuple of integers separated by commas: 10,40,60,70,30,50\n",
            "Maximum value: 70\n",
            "Minimum value: 10\n"
          ]
        }
      ]
    },
    {
      "cell_type": "code",
      "source": [
        "def get_set_input(prompt):\n",
        "    # Prompt the user to input a set of characters separated by commas\n",
        "    user_input = input(prompt)\n",
        "\n",
        "    # Convert the input string into a set of characters\n",
        "    return set(user_input.split(','))\n",
        "\n",
        "def main():\n",
        "    # Get two sets of characters from the user\n",
        "    set1 = get_set_input(\"Enter the first set of characters (separated by commas): \")\n",
        "    set2 = get_set_input(\"Enter the second set of characters (separated by commas): \")\n",
        "\n",
        "    # Find the union of the two sets\n",
        "    union_set = set1 | set2  # Or set1.union(set2)\n",
        "\n",
        "    # Print the result\n",
        "    print(\"Union of the two sets:\", union_set)\n",
        "\n",
        "# Example usage\n",
        "main()\n"
      ],
      "metadata": {
        "colab": {
          "base_uri": "https://localhost:8080/"
        },
        "id": "2T-tqy51VeUe",
        "outputId": "344e8636-a41b-4694-9fca-706b6a9eaa88"
      },
      "execution_count": 41,
      "outputs": [
        {
          "output_type": "stream",
          "name": "stdout",
          "text": [
            "Enter the first set of characters (separated by commas): a,b,c,d\n",
            "Enter the second set of characters (separated by commas): c,d,e,f\n",
            "Union of the two sets: {'b', 'f', 'd', 'e', 'c', 'a'}\n"
          ]
        }
      ]
    },
    {
      "cell_type": "code",
      "source": [
        "def slice_tuple(tpl, start, end):\n",
        "    # Slice the tuple from the start index to the end index (exclusive)\n",
        "    return tpl[start:end]\n",
        "\n",
        "# Example usage\n",
        "input_tuple = tuple(map(int, input(\"Enter a tuple of integers separated by commas: \").split(',')))\n",
        "start_index = int(input(\"Enter the start index: \"))\n",
        "end_index = int(input(\"Enter the end index: \"))\n",
        "\n",
        "# Get the sliced tuple based on the specified range\n",
        "sliced_tuple = slice_tuple(input_tuple, start_index, end_index)\n",
        "\n",
        "print(\"Sliced Tuple:\", sliced_tuple)\n"
      ],
      "metadata": {
        "colab": {
          "base_uri": "https://localhost:8080/"
        },
        "id": "vf3zvYVbVrQq",
        "outputId": "a6eb62b6-9a37-422d-d588-fd602bed3ba8"
      },
      "execution_count": 42,
      "outputs": [
        {
          "output_type": "stream",
          "name": "stdout",
          "text": [
            "Enter a tuple of integers separated by commas: 10,20,30,40,50\n",
            "Enter the start index: 1\n",
            "Enter the end index: 4\n",
            "Sliced Tuple: (20, 30, 40)\n"
          ]
        }
      ]
    },
    {
      "cell_type": "code",
      "source": [
        "def get_set_input(prompt):\n",
        "    # Prompt the user to input a set of strings separated by commas\n",
        "    user_input = input(prompt)\n",
        "\n",
        "    # Convert the input string into a set of strings\n",
        "    return set(user_input.split(','))\n",
        "\n",
        "def main():\n",
        "    # Get two sets of strings from the user\n",
        "    set1 = get_set_input(\"Enter the first set of strings (separated by commas): \")\n",
        "    set2 = get_set_input(\"Enter the second set of strings (separated by commas): \")\n",
        "\n",
        "    # Find the elements that are in the first set but not in the second set\n",
        "    difference = set1 - set2  # Or use set1.difference(set2)\n",
        "\n",
        "    # Print the result\n",
        "    print(\"Elements in the first set but not in the second set:\", difference)\n",
        "\n",
        "# Example usage\n",
        "main()\n"
      ],
      "metadata": {
        "colab": {
          "base_uri": "https://localhost:8080/"
        },
        "id": "k1za8g9IYOZa",
        "outputId": "6bdec286-db0b-4fb1-9cc8-5b7b3e48f4c4"
      },
      "execution_count": 43,
      "outputs": [
        {
          "output_type": "stream",
          "name": "stdout",
          "text": [
            "Enter the first set of strings (separated by commas): apple,banana,orange\n",
            "Enter the second set of strings (separated by commas): banana,grape\n",
            "Elements in the first set but not in the second set: {'orange', 'apple'}\n"
          ]
        }
      ]
    },
    {
      "cell_type": "code",
      "source": [
        "def concatenate_tuples(tuple1, tuple2):\n",
        "    # Concatenate the two tuples\n",
        "    return tuple1 + tuple2\n",
        "\n",
        "# Example usage\n",
        "tuple1 = (1, 2, 3)\n",
        "tuple2 = (4, 5, 6)\n",
        "result = concatenate_tuples(tuple1, tuple2)\n",
        "\n",
        "print(\"Concatenated Tuple:\", result)\n"
      ],
      "metadata": {
        "colab": {
          "base_uri": "https://localhost:8080/"
        },
        "id": "RnViYYVdYgxt",
        "outputId": "65cfbcfa-7e55-4029-8207-6f8fe09da49d"
      },
      "execution_count": 44,
      "outputs": [
        {
          "output_type": "stream",
          "name": "stdout",
          "text": [
            "Concatenated Tuple: (1, 2, 3, 4, 5, 6)\n"
          ]
        }
      ]
    }
  ]
}